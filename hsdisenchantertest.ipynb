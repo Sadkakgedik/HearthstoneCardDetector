{
 "cells": [
  {
   "cell_type": "code",
   "execution_count": 7,
   "metadata": {},
   "outputs": [
    {
     "ename": "OSError",
     "evalue": "Failed to read cancel.png because file is missing, has improper permissions, or is an unsupported or invalid format",
     "output_type": "error",
     "traceback": [
      "\u001b[1;31m---------------------------------------------------------------------------\u001b[0m",
      "\u001b[1;31mOSError\u001b[0m                                   Traceback (most recent call last)",
      "Cell \u001b[1;32mIn[7], line 28\u001b[0m\n\u001b[0;32m     25\u001b[0m pyautogui\u001b[39m.\u001b[39mclick(pyautogui\u001b[39m.\u001b[39mcenter(disenchant))\n\u001b[0;32m     27\u001b[0m time\u001b[39m.\u001b[39msleep(\u001b[39m2\u001b[39m)\n\u001b[1;32m---> 28\u001b[0m cancel\u001b[39m=\u001b[39mpyautogui\u001b[39m.\u001b[39mlocateOnScreen(\u001b[39m\"\u001b[39m\u001b[39mcancel.png\u001b[39m\u001b[39m\"\u001b[39m)\n\u001b[0;32m     29\u001b[0m pyautogui\u001b[39m.\u001b[39mclick(pyautogui\u001b[39m.\u001b[39mcenter(cancel))\n\u001b[0;32m     30\u001b[0m time\u001b[39m.\u001b[39msleep(\u001b[39m1\u001b[39m)\n",
      "File \u001b[1;32mc:\\Users\\TRON PCH\\miniconda3\\envs\\ai_env\\Lib\\site-packages\\pyautogui\\__init__.py:175\u001b[0m, in \u001b[0;36mraisePyAutoGUIImageNotFoundException.<locals>.wrapper\u001b[1;34m(*args, **kwargs)\u001b[0m\n\u001b[0;32m    172\u001b[0m \u001b[39m@functools\u001b[39m\u001b[39m.\u001b[39mwraps(wrappedFunction)\n\u001b[0;32m    173\u001b[0m \u001b[39mdef\u001b[39;00m \u001b[39mwrapper\u001b[39m(\u001b[39m*\u001b[39margs, \u001b[39m*\u001b[39m\u001b[39m*\u001b[39mkwargs):\n\u001b[0;32m    174\u001b[0m     \u001b[39mtry\u001b[39;00m:\n\u001b[1;32m--> 175\u001b[0m         \u001b[39mreturn\u001b[39;00m wrappedFunction(\u001b[39m*\u001b[39margs, \u001b[39m*\u001b[39m\u001b[39m*\u001b[39mkwargs)\n\u001b[0;32m    176\u001b[0m     \u001b[39mexcept\u001b[39;00m pyscreeze\u001b[39m.\u001b[39mImageNotFoundException:\n\u001b[0;32m    177\u001b[0m         \u001b[39mraise\u001b[39;00m ImageNotFoundException\n",
      "File \u001b[1;32mc:\\Users\\TRON PCH\\miniconda3\\envs\\ai_env\\Lib\\site-packages\\pyautogui\\__init__.py:213\u001b[0m, in \u001b[0;36mlocateOnScreen\u001b[1;34m(*args, **kwargs)\u001b[0m\n\u001b[0;32m    211\u001b[0m \u001b[39m@raisePyAutoGUIImageNotFoundException\u001b[39m\n\u001b[0;32m    212\u001b[0m \u001b[39mdef\u001b[39;00m \u001b[39mlocateOnScreen\u001b[39m(\u001b[39m*\u001b[39margs, \u001b[39m*\u001b[39m\u001b[39m*\u001b[39mkwargs):\n\u001b[1;32m--> 213\u001b[0m     \u001b[39mreturn\u001b[39;00m pyscreeze\u001b[39m.\u001b[39mlocateOnScreen(\u001b[39m*\u001b[39margs, \u001b[39m*\u001b[39m\u001b[39m*\u001b[39mkwargs)\n",
      "File \u001b[1;32mc:\\Users\\TRON PCH\\miniconda3\\envs\\ai_env\\Lib\\site-packages\\pyscreeze\\__init__.py:373\u001b[0m, in \u001b[0;36mlocateOnScreen\u001b[1;34m(image, minSearchTime, **kwargs)\u001b[0m\n\u001b[0;32m    371\u001b[0m \u001b[39mtry\u001b[39;00m:\n\u001b[0;32m    372\u001b[0m     screenshotIm \u001b[39m=\u001b[39m screenshot(region\u001b[39m=\u001b[39m\u001b[39mNone\u001b[39;00m) \u001b[39m# the locateAll() function must handle cropping to return accurate coordinates, so don't pass a region here.\u001b[39;00m\n\u001b[1;32m--> 373\u001b[0m     retVal \u001b[39m=\u001b[39m locate(image, screenshotIm, \u001b[39m*\u001b[39m\u001b[39m*\u001b[39mkwargs)\n\u001b[0;32m    374\u001b[0m     \u001b[39mtry\u001b[39;00m:\n\u001b[0;32m    375\u001b[0m         screenshotIm\u001b[39m.\u001b[39mfp\u001b[39m.\u001b[39mclose()\n",
      "File \u001b[1;32mc:\\Users\\TRON PCH\\miniconda3\\envs\\ai_env\\Lib\\site-packages\\pyscreeze\\__init__.py:353\u001b[0m, in \u001b[0;36mlocate\u001b[1;34m(needleImage, haystackImage, **kwargs)\u001b[0m\n\u001b[0;32m    351\u001b[0m \u001b[39m# Note: The gymnastics in this function is because we want to make sure to exhaust the iterator so that the needle and haystack files are closed in locateAll.\u001b[39;00m\n\u001b[0;32m    352\u001b[0m kwargs[\u001b[39m'\u001b[39m\u001b[39mlimit\u001b[39m\u001b[39m'\u001b[39m] \u001b[39m=\u001b[39m \u001b[39m1\u001b[39m\n\u001b[1;32m--> 353\u001b[0m points \u001b[39m=\u001b[39m \u001b[39mtuple\u001b[39m(locateAll(needleImage, haystackImage, \u001b[39m*\u001b[39m\u001b[39m*\u001b[39mkwargs))\n\u001b[0;32m    354\u001b[0m \u001b[39mif\u001b[39;00m \u001b[39mlen\u001b[39m(points) \u001b[39m>\u001b[39m \u001b[39m0\u001b[39m:\n\u001b[0;32m    355\u001b[0m     \u001b[39mreturn\u001b[39;00m points[\u001b[39m0\u001b[39m]\n",
      "File \u001b[1;32mc:\\Users\\TRON PCH\\miniconda3\\envs\\ai_env\\Lib\\site-packages\\pyscreeze\\__init__.py:207\u001b[0m, in \u001b[0;36m_locateAll_opencv\u001b[1;34m(needleImage, haystackImage, grayscale, limit, region, step, confidence)\u001b[0m\n\u001b[0;32m    203\u001b[0m     grayscale \u001b[39m=\u001b[39m GRAYSCALE_DEFAULT\n\u001b[0;32m    205\u001b[0m confidence \u001b[39m=\u001b[39m \u001b[39mfloat\u001b[39m(confidence)\n\u001b[1;32m--> 207\u001b[0m needleImage \u001b[39m=\u001b[39m _load_cv2(needleImage, grayscale)\n\u001b[0;32m    208\u001b[0m needleHeight, needleWidth \u001b[39m=\u001b[39m needleImage\u001b[39m.\u001b[39mshape[:\u001b[39m2\u001b[39m]\n\u001b[0;32m    209\u001b[0m haystackImage \u001b[39m=\u001b[39m _load_cv2(haystackImage, grayscale)\n",
      "File \u001b[1;32mc:\\Users\\TRON PCH\\miniconda3\\envs\\ai_env\\Lib\\site-packages\\pyscreeze\\__init__.py:170\u001b[0m, in \u001b[0;36m_load_cv2\u001b[1;34m(img, grayscale)\u001b[0m\n\u001b[0;32m    168\u001b[0m         img_cv \u001b[39m=\u001b[39m cv2\u001b[39m.\u001b[39mimread(img, LOAD_COLOR)\n\u001b[0;32m    169\u001b[0m     \u001b[39mif\u001b[39;00m img_cv \u001b[39mis\u001b[39;00m \u001b[39mNone\u001b[39;00m:\n\u001b[1;32m--> 170\u001b[0m         \u001b[39mraise\u001b[39;00m \u001b[39mIOError\u001b[39;00m(\u001b[39m\"\u001b[39m\u001b[39mFailed to read \u001b[39m\u001b[39m%s\u001b[39;00m\u001b[39m because file is missing, \u001b[39m\u001b[39m\"\u001b[39m\n\u001b[0;32m    171\u001b[0m                       \u001b[39m\"\u001b[39m\u001b[39mhas improper permissions, or is an \u001b[39m\u001b[39m\"\u001b[39m\n\u001b[0;32m    172\u001b[0m                       \u001b[39m\"\u001b[39m\u001b[39munsupported or invalid format\u001b[39m\u001b[39m\"\u001b[39m \u001b[39m%\u001b[39m img)\n\u001b[0;32m    173\u001b[0m \u001b[39melif\u001b[39;00m \u001b[39misinstance\u001b[39m(img, numpy\u001b[39m.\u001b[39mndarray):\n\u001b[0;32m    174\u001b[0m     \u001b[39m# don't try to convert an already-gray image to gray\u001b[39;00m\n\u001b[0;32m    175\u001b[0m     \u001b[39mif\u001b[39;00m grayscale \u001b[39mand\u001b[39;00m \u001b[39mlen\u001b[39m(img\u001b[39m.\u001b[39mshape) \u001b[39m==\u001b[39m \u001b[39m3\u001b[39m:  \u001b[39m# and img.shape[2] == 3:\u001b[39;00m\n",
      "\u001b[1;31mOSError\u001b[0m: Failed to read cancel.png because file is missing, has improper permissions, or is an unsupported or invalid format"
     ]
    }
   ],
   "source": [
    "import cv2\n",
    "import numpy\n",
    "import pyautogui\n",
    "import time\n",
    "\n",
    "# Set up the game window\n",
    "pyautogui.click(794, 1070)\n",
    "time.sleep(1)\n",
    "#pyautogui.hotkey(\"alt\", \"enter\")\n",
    "\n",
    "\n",
    "\n",
    "\n",
    "\n",
    "# Navigate to the Disenchant screen\n",
    "pyautogui.click(1023, 887)\n",
    "time.sleep(3)\n",
    "pyautogui.click(386, 64)\n",
    "time.sleep(2)\n",
    "pyautogui.rightClick(700, 350)\n",
    "\n",
    "\n",
    "time.sleep(2)\n",
    "disenchant=pyautogui.locateOnScreen(\"pngfile/disenchant.png\")\n",
    "pyautogui.click(pyautogui.center(disenchant))\n",
    "\n",
    "time.sleep(2)\n",
    "cancel=pyautogui.locateOnScreen(\"cancel.png\")\n",
    "pyautogui.click(pyautogui.center(cancel),confidence=0.8)\n",
    "time.sleep(1)\n",
    "pyautogui.click(154,413)"
   ]
  },
  {
   "cell_type": "code",
   "execution_count": null,
   "metadata": {},
   "outputs": [],
   "source": [
    "time.sleep(2)\n",
    "pyautogui.click(pyautogui.locateOnScreen(\"pngfile/death_knight.png\"))\n",
    "time.sleep(1)\n",
    "pyautogui.click(pyautogui.locateOnScreen(\"pngfile/demon_hunter.png\"))\n",
    "time.sleep(1)\n",
    "pyautogui.click(pyautogui.locateOnScreen(\"pngfile/druid.png\"))\n",
    "time.sleep(1)\n",
    "pyautogui.click(pyautogui.locateOnScreen(\"pngfile/hunter.png\"))\n",
    "time.sleep(1)\n",
    "pyautogui.click(pyautogui.locateOnScreen(\"pngfile/nextpage.png\"))\n",
    "time.sleep(1)\n",
    "pyautogui.click(pyautogui.locateOnScreen(\"pngfile/back.png\"))\n"
   ]
  },
  {
   "cell_type": "code",
   "execution_count": 20,
   "metadata": {},
   "outputs": [
    {
     "name": "stdout",
     "output_type": "stream",
     "text": [
      "650\n",
      "350\n",
      "850\n",
      "350\n",
      "1050\n",
      "350\n",
      "1250\n",
      "350\n"
     ]
    }
   ],
   "source": [
    "\n",
    "firstcard=449331\n",
    "secondcard=672344\n",
    "thirdcard=440685\n",
    "#distance between right and left cards are 200 pixels , bottom and top distance is 300 pixels\n",
    "x1 = 450\n",
    "y1 = 350\n",
    "\n",
    "for i in range(4):\n",
    "    x1+=200\n",
    "    print(x1)\n",
    "    print(y1)"
   ]
  },
  {
   "cell_type": "code",
   "execution_count": null,
   "metadata": {},
   "outputs": [],
   "source": [
    "def disenchant():\n",
    "    return 1"
   ]
  }
 ],
 "metadata": {
  "kernelspec": {
   "display_name": "ai_env",
   "language": "python",
   "name": "python3"
  },
  "language_info": {
   "codemirror_mode": {
    "name": "ipython",
    "version": 3
   },
   "file_extension": ".py",
   "mimetype": "text/x-python",
   "name": "python",
   "nbconvert_exporter": "python",
   "pygments_lexer": "ipython3",
   "version": "3.11.2"
  },
  "orig_nbformat": 4
 },
 "nbformat": 4,
 "nbformat_minor": 2
}
