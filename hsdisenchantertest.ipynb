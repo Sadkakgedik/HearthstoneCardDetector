{
 "cells": [
  {
   "cell_type": "code",
   "execution_count": 45,
   "metadata": {},
   "outputs": [],
   "source": [
    "import cv2\n",
    "import numpy\n",
    "import pyautogui\n",
    "import time\n",
    "\n",
    "# Set up the game window\n",
    "pyautogui.click(794, 1070)\n",
    "time.sleep(1)\n",
    "#pyautogui.hotkey(\"alt\", \"enter\")\n",
    "\n",
    "# Navigate to the Disenchant screen\n",
    "pyautogui.click(1023, 887)\n",
    "time.sleep(3)"
   ]
  },
  {
   "cell_type": "code",
   "execution_count": 46,
   "metadata": {},
   "outputs": [],
   "source": [
    "time.sleep(2)\n",
    "#pyautogui.click(pyautogui.locateOnScreen(\"pngfile/death_knight.png\"))\n",
    "#time.sleep(1)\n",
    "#pyautogui.click(pyautogui.locateOnScreen(\"pngfile/demon_hunter.png\"))\n",
    "#time.sleep(1)\n",
    "#pyautogui.click(pyautogui.locateOnScreen(\"pngfile/druid.png\"))\n",
    "#time.sleep(1)\n",
    "#pyautogui.click(pyautogui.locateOnScreen(\"pngfile/hunter.png\"))\n",
    "#time.sleep(1)\n",
    "#pyautogui.click(pyautogui.locateOnScreen(\"pngfile/nextpage.png\"))\n",
    "#time.sleep(1)\n",
    "\n"
   ]
  },
  {
   "cell_type": "code",
   "execution_count": 47,
   "metadata": {},
   "outputs": [
    {
     "ename": "TypeError",
     "evalue": "'NoneType' object is not subscriptable",
     "output_type": "error",
     "traceback": [
      "\u001b[1;31m---------------------------------------------------------------------------\u001b[0m",
      "\u001b[1;31mTypeError\u001b[0m                                 Traceback (most recent call last)",
      "Cell \u001b[1;32mIn[47], line 35\u001b[0m\n\u001b[0;32m     31\u001b[0m         pyautogui\u001b[39m.\u001b[39mclick(\u001b[39m154\u001b[39m,\u001b[39m413\u001b[39m)\n\u001b[0;32m     34\u001b[0m \u001b[39mfor\u001b[39;00m i \u001b[39min\u001b[39;00m \u001b[39mrange\u001b[39m(\u001b[39m1\u001b[39m,\u001b[39m9\u001b[39m):\n\u001b[1;32m---> 35\u001b[0m     disenchant(i)\n\u001b[0;32m     36\u001b[0m     time\u001b[39m.\u001b[39msleep(\u001b[39m0.5\u001b[39m)\n\u001b[0;32m     38\u001b[0m pyautogui\u001b[39m.\u001b[39mclick(pyautogui\u001b[39m.\u001b[39mlocateOnScreen(\u001b[39m\"\u001b[39m\u001b[39mpngfile/back.png\u001b[39m\u001b[39m\"\u001b[39m))\n",
      "Cell \u001b[1;32mIn[47], line 24\u001b[0m, in \u001b[0;36mdisenchant\u001b[1;34m(cardnum)\u001b[0m\n\u001b[0;32m     22\u001b[0m \u001b[39melse\u001b[39;00m:\n\u001b[0;32m     23\u001b[0m     disenchant\u001b[39m=\u001b[39mpyautogui\u001b[39m.\u001b[39mlocateOnScreen(\u001b[39m\"\u001b[39m\u001b[39mpngfile/disenchant.png\u001b[39m\u001b[39m\"\u001b[39m)\n\u001b[1;32m---> 24\u001b[0m     pyautogui\u001b[39m.\u001b[39mclick(pyautogui\u001b[39m.\u001b[39mcenter(disenchant))\n\u001b[0;32m     25\u001b[0m     time\u001b[39m.\u001b[39msleep(\u001b[39m1\u001b[39m)\n\u001b[0;32m     26\u001b[0m     \u001b[39mif\u001b[39;00m pyautogui\u001b[39m.\u001b[39mlocateOnScreen(\u001b[39m\"\u001b[39m\u001b[39mpngfile/cancel.PNG\u001b[39m\u001b[39m\"\u001b[39m) \u001b[39mis\u001b[39;00m \u001b[39mnot\u001b[39;00m \u001b[39mNone\u001b[39;00m:\n",
      "File \u001b[1;32mc:\\Users\\TRON PCH\\miniconda3\\envs\\ai_env\\Lib\\site-packages\\pyscreeze\\__init__.py:582\u001b[0m, in \u001b[0;36mcenter\u001b[1;34m(coords)\u001b[0m\n\u001b[0;32m    566\u001b[0m \u001b[39m\"\"\"\u001b[39;00m\n\u001b[0;32m    567\u001b[0m \u001b[39mReturns a `Point` object with the x and y set to an integer determined by the format of `coords`.\u001b[39;00m\n\u001b[0;32m    568\u001b[0m \n\u001b[1;32m   (...)\u001b[0m\n\u001b[0;32m    578\u001b[0m \u001b[39mPoint(x=14, y=15)\u001b[39;00m\n\u001b[0;32m    579\u001b[0m \u001b[39m\"\"\"\u001b[39;00m\n\u001b[0;32m    581\u001b[0m \u001b[39m# TODO - one day, add code to handle a Box namedtuple.\u001b[39;00m\n\u001b[1;32m--> 582\u001b[0m \u001b[39mreturn\u001b[39;00m Point(coords[\u001b[39m0\u001b[39m] \u001b[39m+\u001b[39m \u001b[39mint\u001b[39m(coords[\u001b[39m2\u001b[39m] \u001b[39m/\u001b[39m \u001b[39m2\u001b[39m), coords[\u001b[39m1\u001b[39m] \u001b[39m+\u001b[39m \u001b[39mint\u001b[39m(coords[\u001b[39m3\u001b[39m] \u001b[39m/\u001b[39m \u001b[39m2\u001b[39m))\n",
      "\u001b[1;31mTypeError\u001b[0m: 'NoneType' object is not subscriptable"
     ]
    }
   ],
   "source": [
    "def disenchant(cardnum):\n",
    "    if cardnum ==1:\n",
    "        pyautogui.rightClick(500,350)\n",
    "    elif cardnum ==2:\n",
    "        pyautogui.rightClick(700,350)\n",
    "    elif cardnum ==3:\n",
    "        pyautogui.rightClick(900,350)\n",
    "    elif cardnum ==4:\n",
    "        pyautogui.rightClick(1100,350)\n",
    "    elif cardnum ==5:\n",
    "        pyautogui.rightClick(500,650)\n",
    "    elif cardnum ==6:\n",
    "        pyautogui.rightClick(700,650)\n",
    "    elif cardnum ==7:\n",
    "        pyautogui.rightClick(900,650)\n",
    "    elif cardnum ==8:\n",
    "        pyautogui.rightClick(1100,650)\n",
    "    \n",
    "    time.sleep(2)\n",
    "    if pyautogui.locateOnScreen(\"pngfile/uncraftable.PNG\") is not None:\n",
    "        pyautogui.click(154,413)\n",
    "    else:\n",
    "        disenchant=pyautogui.locateOnScreen(\"pngfile/disenchant.png\")\n",
    "        pyautogui.click(pyautogui.center(disenchant))\n",
    "        time.sleep(1)\n",
    "        if pyautogui.locateOnScreen(\"pngfile/cancel.PNG\") is not None:\n",
    "            cancel=pyautogui.locateOnScreen(\"pngfile/cancel.png\")\n",
    "            pyautogui.click(pyautogui.center(cancel))\n",
    "       \n",
    "        time.sleep(0.5)\n",
    "        pyautogui.click(154,413)\n",
    "\n",
    "    \n",
    "for i in range(1,9):\n",
    "    disenchant(i)\n",
    "    time.sleep(0.5)\n",
    "\n",
    "pyautogui.click(pyautogui.locateOnScreen(\"pngfile/back.png\"))"
   ]
  }
 ],
 "metadata": {
  "kernelspec": {
   "display_name": "ai_env",
   "language": "python",
   "name": "python3"
  },
  "language_info": {
   "codemirror_mode": {
    "name": "ipython",
    "version": 3
   },
   "file_extension": ".py",
   "mimetype": "text/x-python",
   "name": "python",
   "nbconvert_exporter": "python",
   "pygments_lexer": "ipython3",
   "version": "3.11.2"
  },
  "orig_nbformat": 4
 },
 "nbformat": 4,
 "nbformat_minor": 2
}
