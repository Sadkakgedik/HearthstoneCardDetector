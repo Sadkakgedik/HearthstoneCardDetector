{
 "cells": [
  {
   "cell_type": "code",
   "execution_count": 9,
   "metadata": {},
   "outputs": [
    {
     "name": "stdout",
     "output_type": "stream",
     "text": [
      "disenchanting...\n"
     ]
    },
    {
     "ename": "TypeError",
     "evalue": "'NoneType' object is not subscriptable",
     "output_type": "error",
     "traceback": [
      "\u001b[1;31m---------------------------------------------------------------------------\u001b[0m",
      "\u001b[1;31mTypeError\u001b[0m                                 Traceback (most recent call last)",
      "Cell \u001b[1;32mIn[9], line 73\u001b[0m\n\u001b[0;32m     71\u001b[0m \u001b[39mprint\u001b[39m(\u001b[39m\"\u001b[39m\u001b[39mdisenchanting...\u001b[39m\u001b[39m\"\u001b[39m)\n\u001b[0;32m     72\u001b[0m \u001b[39mfor\u001b[39;00m i \u001b[39min\u001b[39;00m \u001b[39mrange\u001b[39m(\u001b[39m1\u001b[39m,\u001b[39m9\u001b[39m):\n\u001b[1;32m---> 73\u001b[0m     disenchant(i)\n\u001b[0;32m     74\u001b[0m     time\u001b[39m.\u001b[39msleep(\u001b[39m0.5\u001b[39m)\n\u001b[0;32m     75\u001b[0m pyautogui\u001b[39m.\u001b[39mclick(pyautogui\u001b[39m.\u001b[39mlocateOnScreen(\u001b[39m\"\u001b[39m\u001b[39mpngfile/nextpage.PNG\u001b[39m\u001b[39m\"\u001b[39m))            \u001b[39m#after the page is finished going to the next page.\u001b[39;00m\n",
      "Cell \u001b[1;32mIn[9], line 39\u001b[0m, in \u001b[0;36mdisenchant\u001b[1;34m(cardnum)\u001b[0m\n\u001b[0;32m     37\u001b[0m \u001b[39melse\u001b[39;00m:\n\u001b[0;32m     38\u001b[0m     disenchant\u001b[39m=\u001b[39mpyautogui\u001b[39m.\u001b[39mlocateOnScreen(\u001b[39m\"\u001b[39m\u001b[39mpngfile/disenchant.png\u001b[39m\u001b[39m\"\u001b[39m,confidence\u001b[39m=\u001b[39m\u001b[39m0.6\u001b[39m)             \u001b[39m#it searches for the disenchant button then clicks it\u001b[39;00m\n\u001b[1;32m---> 39\u001b[0m     pyautogui\u001b[39m.\u001b[39mclick(pyautogui\u001b[39m.\u001b[39mcenter(disenchant))                             \n\u001b[0;32m     40\u001b[0m     time\u001b[39m.\u001b[39msleep(\u001b[39m1.5\u001b[39m)\n\u001b[0;32m     41\u001b[0m     \u001b[39mif\u001b[39;00m pyautogui\u001b[39m.\u001b[39mlocateOnScreen(\u001b[39m\"\u001b[39m\u001b[39mpngfile/cancel.PNG\u001b[39m\u001b[39m\"\u001b[39m,confidence\u001b[39m=\u001b[39m\u001b[39m0.8\u001b[39m) \u001b[39mis\u001b[39;00m \u001b[39mnot\u001b[39;00m \u001b[39mNone\u001b[39;00m:            \u001b[39m#since i am testing it now , i dont want to disenchant any cards and it checks for the cancel button then cancels it.\u001b[39;00m\n",
      "File \u001b[1;32mc:\\Users\\TRON PCH\\miniconda3\\envs\\ai_env\\Lib\\site-packages\\pyscreeze\\__init__.py:582\u001b[0m, in \u001b[0;36mcenter\u001b[1;34m(coords)\u001b[0m\n\u001b[0;32m    566\u001b[0m \u001b[39m\"\"\"\u001b[39;00m\n\u001b[0;32m    567\u001b[0m \u001b[39mReturns a `Point` object with the x and y set to an integer determined by the format of `coords`.\u001b[39;00m\n\u001b[0;32m    568\u001b[0m \n\u001b[1;32m   (...)\u001b[0m\n\u001b[0;32m    578\u001b[0m \u001b[39mPoint(x=14, y=15)\u001b[39;00m\n\u001b[0;32m    579\u001b[0m \u001b[39m\"\"\"\u001b[39;00m\n\u001b[0;32m    581\u001b[0m \u001b[39m# TODO - one day, add code to handle a Box namedtuple.\u001b[39;00m\n\u001b[1;32m--> 582\u001b[0m \u001b[39mreturn\u001b[39;00m Point(coords[\u001b[39m0\u001b[39m] \u001b[39m+\u001b[39m \u001b[39mint\u001b[39m(coords[\u001b[39m2\u001b[39m] \u001b[39m/\u001b[39m \u001b[39m2\u001b[39m), coords[\u001b[39m1\u001b[39m] \u001b[39m+\u001b[39m \u001b[39mint\u001b[39m(coords[\u001b[39m3\u001b[39m] \u001b[39m/\u001b[39m \u001b[39m2\u001b[39m))\n",
      "\u001b[1;31mTypeError\u001b[0m: 'NoneType' object is not subscriptable"
     ]
    }
   ],
   "source": [
    "import cv2\n",
    "import numpy\n",
    "import pyautogui\n",
    "import time\n",
    "import keyboard\n",
    "\n",
    "\n",
    "\n",
    "def stop_program(e):\n",
    "    pyautogui.click(pyautogui.locateOnScreen(\"pngfile/back.png\",confidence=0.6))\n",
    "    raise KeyboardInterrupt\n",
    "\n",
    "keyboard.add_hotkey('a',stop_program)\n",
    "\n",
    "def disenchant(cardnum):\n",
    "    if cardnum ==1:\n",
    "        pyautogui.rightClick(500,350)\n",
    "    elif cardnum ==2:\n",
    "        pyautogui.rightClick(700,350)\n",
    "    elif cardnum ==3:\n",
    "        pyautogui.rightClick(900,350)\n",
    "    elif cardnum ==4:\n",
    "        pyautogui.rightClick(1100,350)\n",
    "    elif cardnum ==5:\n",
    "        pyautogui.rightClick(500,650)\n",
    "    elif cardnum ==6:\n",
    "        pyautogui.rightClick(700,650)\n",
    "    elif cardnum ==7:\n",
    "        pyautogui.rightClick(900,650)\n",
    "    elif cardnum ==8:\n",
    "        pyautogui.rightClick(1100,650)\n",
    "    \n",
    "    time.sleep(0.3)\n",
    "    #if the card is uncraftable , it automatically clicks on the left side to exit out of the card screen.\n",
    "    if pyautogui.locateOnScreen(\"pngfile/uncraftable.PNG\",confidence=0.7) is not None or pyautogui.locateOnScreen(\"pngfile/x1.PNG\",confidence=0.7) is not None:\n",
    "        pyautogui.hotkey(\"esc\")\n",
    "    else:\n",
    "        disenchant=pyautogui.locateOnScreen(\"pngfile/disenchant.png\",confidence=0.6)             #it searches for the disenchant button then clicks it\n",
    "        pyautogui.click(pyautogui.center(disenchant))                             \n",
    "        time.sleep(1.5)\n",
    "        if pyautogui.locateOnScreen(\"pngfile/cancel.PNG\",confidence=0.8) is not None:            #since i am testing it now , i dont want to disenchant any cards and it checks for the cancel button then cancels it.\n",
    "            pyautogui.hotkey(\"esc\")\n",
    "            time.sleep(0.3)\n",
    "       \n",
    "        time.sleep(0.3)\n",
    "        pyautogui.hotkey(\"esc\")\n",
    "\n",
    "\n",
    "pyautogui.click(794, 1070)                                    # Set up the game window\n",
    "time.sleep(1)\n",
    "#if pyautogui.locateOnScreen(\"pngfile/notFullScreen.PNG\") is None:               #if the game is not full screen it is made to fullscreen.\n",
    "    #pyautogui.hotkey(\"alt\", \"enter\")\n",
    "    #time.sleep(2)\n",
    "\n",
    "# Navigate to the Disenchant screen\n",
    "pyautogui.click(pyautogui.locateOnScreen(\"pngfile/myCollection.PNG\",confidence=0.5))  #going to the collection\n",
    "time.sleep(2)\n",
    "#input yeri\n",
    "input=pyautogui.prompt('This lets the user type in a string and press OK.')\n",
    "pyautogui.click(pyautogui.locateOnScreen(\"pngfile/search_bar.PNG\",confidence=0.6))\n",
    "if input is not None:\n",
    "    pyautogui.typewrite(input)\n",
    "    pyautogui.hotkey(\"enter\")\n",
    "    time.sleep(1)\n",
    "\n",
    "\n",
    "\n",
    "try:\n",
    "    while True:\n",
    "        while pyautogui.locateOnScreen(\"pngfile/nextpage.PNG\") is not None:              #this basically puts it on a loop now, gonna fix it later.\n",
    "            print(\"disenchanting...\")\n",
    "            for i in range(1,9):\n",
    "                disenchant(i)\n",
    "                time.sleep(0.5)\n",
    "            pyautogui.click(pyautogui.locateOnScreen(\"pngfile/nextpage.PNG\"))            #after the page is finished going to the next page.\n",
    "            time.sleep(0.3)                                                      \n",
    "except KeyboardInterrupt:\n",
    "    print(\"Stopped by the user\")\n",
    "    exit(1)\n",
    "   \n",
    "\n",
    "\n"
   ]
  }
 ],
 "metadata": {
  "kernelspec": {
   "display_name": "ai_env",
   "language": "python",
   "name": "python3"
  },
  "language_info": {
   "codemirror_mode": {
    "name": "ipython",
    "version": 3
   },
   "file_extension": ".py",
   "mimetype": "text/x-python",
   "name": "python",
   "nbconvert_exporter": "python",
   "pygments_lexer": "ipython3",
   "version": "3.11.2"
  },
  "orig_nbformat": 4
 },
 "nbformat": 4,
 "nbformat_minor": 2
}
