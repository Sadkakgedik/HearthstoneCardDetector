{
 "cells": [
  {
   "cell_type": "code",
   "execution_count": 49,
   "metadata": {},
   "outputs": [],
   "source": [
    "import cv2\n",
    "import numpy\n",
    "import pyautogui\n",
    "import time\n",
    "\n",
    "# Set up the game window\n",
    "pyautogui.click(794, 1070)\n",
    "time.sleep(1)\n",
    "#pyautogui.hotkey(\"alt\", \"enter\")\n",
    "\n",
    "# Navigate to the Disenchant screen\n",
    "pyautogui.click(1023, 887)\n",
    "time.sleep(3)"
   ]
  },
  {
   "cell_type": "code",
   "execution_count": 50,
   "metadata": {},
   "outputs": [],
   "source": [
    "\n",
    "#pyautogui.click(pyautogui.locateOnScreen(\"pngfile/death_knight.png\"))\n",
    "#time.sleep(1)\n",
    "#pyautogui.click(pyautogui.locateOnScreen(\"pngfile/demon_hunter.png\"))\n",
    "#time.sleep(1)\n",
    "#pyautogui.click(pyautogui.locateOnScreen(\"pngfile/druid.png\"))\n",
    "#time.sleep(1)\n",
    "#pyautogui.click(pyautogui.locateOnScreen(\"pngfile/hunter.png\"))\n",
    "#time.sleep(1)\n",
    "#pyautogui.click(pyautogui.locateOnScreen(\"pngfile/nextpage.png\"))\n",
    "#time.sleep(1)\n",
    "\n"
   ]
  },
  {
   "cell_type": "code",
   "execution_count": 51,
   "metadata": {},
   "outputs": [],
   "source": [
    "def disenchant(cardnum):\n",
    "    if cardnum ==1:\n",
    "        pyautogui.rightClick(500,350)\n",
    "    elif cardnum ==2:\n",
    "        pyautogui.rightClick(700,350)\n",
    "    elif cardnum ==3:\n",
    "        pyautogui.rightClick(900,350)\n",
    "    elif cardnum ==4:\n",
    "        pyautogui.rightClick(1100,350)\n",
    "    elif cardnum ==5:\n",
    "        pyautogui.rightClick(500,650)\n",
    "    elif cardnum ==6:\n",
    "        pyautogui.rightClick(700,650)\n",
    "    elif cardnum ==7:\n",
    "        pyautogui.rightClick(900,650)\n",
    "    elif cardnum ==8:\n",
    "        pyautogui.rightClick(1100,650)\n",
    "    \n",
    "    time.sleep(0.5)\n",
    "    #if the card is uncraftable , it automatically clicks on the left side to exit out of the card screen.\n",
    "    if pyautogui.locateOnScreen(\"pngfile/uncraftable.PNG\") is not None:\n",
    "        pyautogui.hotkey(\"esc\")\n",
    "    else:\n",
    "        disenchant=pyautogui.locateOnScreen(\"pngfile/disenchant.png\")             #it searches for the disenchant button then clicks it\n",
    "        pyautogui.click(pyautogui.center(disenchant))                             \n",
    "        time.sleep(1.5)\n",
    "        if pyautogui.locateOnScreen(\"pngfile/cancel.PNG\",confidence=0.8) is not None:            #since i am testing it now , i dont want to disenchant any cards and it checks for the cancel button then cancels it.\n",
    "            pyautogui.hotkey(\"esc\")\n",
    "            time.sleep(0.2)\n",
    "       \n",
    "        time.sleep(0.5)\n",
    "        pyautogui.hotkey(\"esc\")\n",
    "\n",
    "while pyautogui.locateOnScreen(\"pngfile/nextpage.PNG\") is not None:\n",
    "    for i in range(1,9):\n",
    "        disenchant(i)\n",
    "        time.sleep(0.5)\n",
    "    pyautogui.click(pyautogui.locateOnScreen(\"pngfile/nextpage.PNG\"))\n",
    "    \n",
    "\n",
    "\n",
    "\n",
    "\n",
    "pyautogui.click(pyautogui.locateOnScreen(\"pngfile/back.png\"))"
   ]
  }
 ],
 "metadata": {
  "kernelspec": {
   "display_name": "ai_env",
   "language": "python",
   "name": "python3"
  },
  "language_info": {
   "codemirror_mode": {
    "name": "ipython",
    "version": 3
   },
   "file_extension": ".py",
   "mimetype": "text/x-python",
   "name": "python",
   "nbconvert_exporter": "python",
   "pygments_lexer": "ipython3",
   "version": "3.11.2"
  },
  "orig_nbformat": 4
 },
 "nbformat": 4,
 "nbformat_minor": 2
}
