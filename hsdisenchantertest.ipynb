{
 "cells": [
  {
   "cell_type": "code",
   "execution_count": 121,
   "metadata": {},
   "outputs": [],
   "source": [
    "import cv2\n",
    "import numpy\n",
    "import pyautogui\n",
    "import time\n",
    "\n",
    "# Set up the game window\n",
    "pyautogui.click(794, 1070)\n",
    "time.sleep(1)\n",
    "#pyautogui.hotkey(\"alt\", \"enter\")\n",
    "\n",
    "\n",
    "\n"
   ]
  },
  {
   "cell_type": "code",
   "execution_count": 122,
   "metadata": {},
   "outputs": [],
   "source": [
    "\n",
    "# Navigate to the Disenchant screen\n",
    "pyautogui.click(1023, 887)\n",
    "time.sleep(3)\n",
    "pyautogui.click(386, 64)\n",
    "time.sleep(1)\n",
    "pyautogui.rightClick(700, 350)\n",
    "\n"
   ]
  },
  {
   "cell_type": "code",
   "execution_count": 123,
   "metadata": {},
   "outputs": [],
   "source": [
    "time.sleep(2)\n",
    "disenchant=pyautogui.locateOnScreen(\"disenchant.png\")\n",
    "disenchant_but=pyautogui.center(disenchant)\n",
    "pyautogui.click(disenchant_but)\n",
    "\n",
    "time.sleep(2)\n",
    "cancel=pyautogui.locateOnScreen(\"cancel.png\")\n",
    "cancel_but=pyautogui.center(cancel)\n",
    "pyautogui.click(cancel_but)\n",
    "time.sleep(1)\n",
    "pyautogui.click(154,413)"
   ]
  },
  {
   "cell_type": "code",
   "execution_count": 124,
   "metadata": {},
   "outputs": [],
   "source": [
    "time.sleep(2)\n",
    "pyautogui.click(pyautogui.locateOnScreen(\"death_knight.png\"))\n",
    "time.sleep(1)\n",
    "pyautogui.click(pyautogui.locateOnScreen(\"demon_hunter.png\"))\n",
    "time.sleep(1)\n",
    "pyautogui.click(pyautogui.locateOnScreen(\"druid.png\"))\n",
    "time.sleep(1)\n",
    "pyautogui.click(pyautogui.locateOnScreen(\"hunter.png\"))\n",
    "time.sleep(1)\n",
    "pyautogui.click(pyautogui.locateOnScreen(\"nextpage.png\"))\n",
    "time.sleep(1)\n",
    "pyautogui.click(pyautogui.locateOnScreen(\"back.png\"))\n"
   ]
  },
  {
   "cell_type": "code",
   "execution_count": 20,
   "metadata": {},
   "outputs": [
    {
     "name": "stdout",
     "output_type": "stream",
     "text": [
      "650\n",
      "350\n",
      "850\n",
      "350\n",
      "1050\n",
      "350\n",
      "1250\n",
      "350\n"
     ]
    }
   ],
   "source": [
    "\n",
    "firstcard=449331\n",
    "secondcard=672344\n",
    "thirdcard=440685\n",
    "#distance between right and left cards are 200 pixels , bottom and top distance is 300 pixels\n",
    "x1 = 450\n",
    "y1 = 350\n",
    "\n",
    "for i in range(4):\n",
    "    x1+=200\n",
    "    print(x1)\n",
    "    print(y1)"
   ]
  }
 ],
 "metadata": {
  "kernelspec": {
   "display_name": "ai_env",
   "language": "python",
   "name": "python3"
  },
  "language_info": {
   "codemirror_mode": {
    "name": "ipython",
    "version": 3
   },
   "file_extension": ".py",
   "mimetype": "text/x-python",
   "name": "python",
   "nbconvert_exporter": "python",
   "pygments_lexer": "ipython3",
   "version": "3.11.2"
  },
  "orig_nbformat": 4
 },
 "nbformat": 4,
 "nbformat_minor": 2
}
