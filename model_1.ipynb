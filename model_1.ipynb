{
 "cells": [
  {
   "cell_type": "code",
   "execution_count": 2,
   "metadata": {},
   "outputs": [
    {
     "data": {
      "text/plain": [
       "('2.0.0', 'cuda')"
      ]
     },
     "execution_count": 2,
     "metadata": {},
     "output_type": "execute_result"
    }
   ],
   "source": [
    "import torch\n",
    "from torch import nn\n",
    "\n",
    "device = \"cuda\" if torch.cuda.is_available() else \"cpu\"\n",
    "\n",
    "torch.__version__,device"
   ]
  },
  {
   "cell_type": "code",
   "execution_count": null,
   "metadata": {},
   "outputs": [],
   "source": [
    "import requests \n",
    "import zipfile\n",
    "from pathlib import Path\n",
    "from helper_functions import walk_through_dir\n",
    "\n",
    "#Setup a path to the data folder\n",
    "data_path=Path(\"data/\")\n",
    "image_path=data_path / \"pizza_steak_sushi\"\n",
    "\n",
    "walk_through_dir(image_path)"
   ]
  },
  {
   "cell_type": "code",
   "execution_count": null,
   "metadata": {},
   "outputs": [],
   "source": [
    "#Setup train data and test data\n",
    "train_dir=image_path/\"train\"\n",
    "test_dir=image_path/\"test\"\n",
    "train_dir,test_dir"
   ]
  },
  {
   "cell_type": "code",
   "execution_count": null,
   "metadata": {},
   "outputs": [],
   "source": [
    "import random \n",
    "from PIL import Image\n",
    "\n",
    "random.seed(42) \n",
    "\n",
    "#Get all the image paths\n",
    "image_path_list=list(image_path.glob(\"*/*/*.jpg\"))\n",
    "\n",
    "random_image_path=random.choice(image_path_list)\n",
    "print(random_image_path)\n",
    "image_class=random_image_path.parent.stem\n",
    "print(image_class)\n",
    "\n",
    "img=Image.open(random_image_path)\n",
    "\n",
    "print(f\"Random image path is {random_image_path}\")\n",
    "print(f\"Image class: {image_class}\")\n",
    "print(f\"Image height: {img.height}\")\n",
    "print(f\"Image width: {img.width}\")"
   ]
  },
  {
   "cell_type": "code",
   "execution_count": null,
   "metadata": {},
   "outputs": [],
   "source": [
    "import matplotlib.pyplot as plt\n",
    "import numpy as np\n",
    "\n",
    "img_as_array=np.asarray(img)\n",
    "plt.figure(figsize=(10,7))\n",
    "plt.imshow(img_as_array)\n",
    "plt.axis(False)\n",
    "plt.title(f\"Image class {image_class} | Image shape {img_as_array.shape} -> [Height,width,color channels]\")"
   ]
  },
  {
   "cell_type": "code",
   "execution_count": null,
   "metadata": {},
   "outputs": [],
   "source": [
    "import torch\n",
    "from torch.utils.data import DataLoader\n",
    "from torchvision import datasets,transforms\n",
    "\n",
    "#Transforming data with \"torchvision.transforms\""
   ]
  },
  {
   "cell_type": "code",
   "execution_count": null,
   "metadata": {},
   "outputs": [],
   "source": [
    "#Transforms for image\n",
    "data_transform =transforms.Compose([\n",
    "\n",
    "    #Resize our images to 64x64 !!\n",
    "    transforms.Resize(size=(64,64)),\n",
    "\n",
    "    #Flip the images randomlyon the horizontal\n",
    "    transforms.RandomHorizontalFlip(p=0.5),\n",
    "\n",
    "    #Turn the image into a tensor !!!!!!!\n",
    "    transforms.ToTensor()\n",
    "])"
   ]
  },
  {
   "cell_type": "code",
   "execution_count": null,
   "metadata": {},
   "outputs": [],
   "source": [
    "def plot_transformed_images(image_paths,transform,n=3,seed=None):\n",
    "    \"\"\"\n",
    "    Selects random images from a path of images and loads/transforms them,\n",
    "    then plots the original vs of the transformed version\n",
    "    \"\"\"\n",
    "    if seed:\n",
    "        random.seed(seed)\n",
    "    random_image_paths=random.sample(image_paths,k=n)\n",
    "    for image_path in random_image_paths:\n",
    "        with Image.open(image_path) as f:\n",
    "            fig,ax=plt.subplots(nrows=1,ncols=2)\n",
    "            ax[0].imshow(f)\n",
    "            ax[0].set_title(f\"Original\\nSize:{f.size}\")\n",
    "            ax[0].axis(False)\n",
    "\n",
    "            #Transform and plot target image\n",
    "            transformed_image=transform(f).permute(1,2,0) #Note we will need to change shape for matplotlib\n",
    "            ax[1].imshow(transformed_image)\n",
    "            ax[1].set_title(f\"Transformed\\nShape: {transformed_image.shape}\")\n",
    "            ax[1].axis(False)\n",
    "\n",
    "            fig.suptitle(f\"Class: {image_path.parent.stem}\",fontsize=16)\n",
    "\n",
    "plot_transformed_images(image_paths=image_path_list,\n",
    "                            transform=data_transform,\n",
    "                            n=3,seed=42)"
   ]
  },
  {
   "cell_type": "code",
   "execution_count": null,
   "metadata": {},
   "outputs": [],
   "source": [
    "from torchvision import datasets\n",
    "train_data=datasets.ImageFolder(root=train_dir,\n",
    "                                transform=data_transform,\n",
    "                                target_transform=None)\n",
    "\n",
    "test_data=datasets.ImageFolder(root=test_dir,\n",
    "                               transform=data_transform)\n",
    "\n",
    "train_data,test_data"
   ]
  },
  {
   "cell_type": "code",
   "execution_count": null,
   "metadata": {},
   "outputs": [],
   "source": []
  },
  {
   "cell_type": "code",
   "execution_count": null,
   "metadata": {},
   "outputs": [],
   "source": []
  },
  {
   "cell_type": "code",
   "execution_count": null,
   "metadata": {},
   "outputs": [],
   "source": []
  },
  {
   "cell_type": "code",
   "execution_count": null,
   "metadata": {},
   "outputs": [],
   "source": []
  }
 ],
 "metadata": {
  "kernelspec": {
   "display_name": "ai_env2",
   "language": "python",
   "name": "python3"
  },
  "language_info": {
   "codemirror_mode": {
    "name": "ipython",
    "version": 3
   },
   "file_extension": ".py",
   "mimetype": "text/x-python",
   "name": "python",
   "nbconvert_exporter": "python",
   "pygments_lexer": "ipython3",
   "version": "3.9.16"
  },
  "orig_nbformat": 4
 },
 "nbformat": 4,
 "nbformat_minor": 2
}
