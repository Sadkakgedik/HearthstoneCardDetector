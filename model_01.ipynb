{
 "cells": [
  {
   "cell_type": "code",
   "execution_count": null,
   "metadata": {},
   "outputs": [],
   "source": [
    "import torch \n",
    "from torch import nn\n",
    "\n",
    "device=\"cuda\" if torch.cuda.is_available() else \"cpu\"\n"
   ]
  },
  {
   "cell_type": "markdown",
   "metadata": {},
   "source": [
    "### WILL PREPARE DATA AFTERWARDS SINCE I HAVE A CURRENT DATASET BUT IT IS UNSUFFICIENT"
   ]
  },
  {
   "cell_type": "code",
   "execution_count": null,
   "metadata": {},
   "outputs": [],
   "source": [
    "class CardRecogModel_01(nn.Module):\n",
    "    def __init__(self,\n",
    "                 input:int,\n",
    "                 hidden_units:int,\n",
    "                 output:int):\n",
    "        super().__init__()\n",
    "        self.layer_1=nn.Linear(in_features=input,\n",
    "                  out_features=hidden_units)\n",
    "        self.layer_2=nn.ReLU()\n",
    "        self.layer_3=nn.Linear(in_features=hidden_units,\n",
    "                  out_features=output)\n",
    "        self.layer_4=nn.ReLU()\n",
    "    def forward(x):\n",
    "        return x"
   ]
  },
  {
   "cell_type": "code",
   "execution_count": null,
   "metadata": {},
   "outputs": [],
   "source": []
  },
  {
   "cell_type": "code",
   "execution_count": null,
   "metadata": {},
   "outputs": [],
   "source": []
  },
  {
   "cell_type": "code",
   "execution_count": null,
   "metadata": {},
   "outputs": [],
   "source": []
  },
  {
   "cell_type": "code",
   "execution_count": null,
   "metadata": {},
   "outputs": [],
   "source": []
  },
  {
   "cell_type": "code",
   "execution_count": null,
   "metadata": {},
   "outputs": [],
   "source": []
  }
 ],
 "metadata": {
  "kernelspec": {
   "display_name": "ai_env2",
   "language": "python",
   "name": "python3"
  },
  "language_info": {
   "name": "python",
   "version": "3.9.16"
  },
  "orig_nbformat": 4
 },
 "nbformat": 4,
 "nbformat_minor": 2
}
