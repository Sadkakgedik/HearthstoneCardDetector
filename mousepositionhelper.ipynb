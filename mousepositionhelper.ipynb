{
 "cells": [
  {
   "cell_type": "code",
   "execution_count": 1,
   "metadata": {},
   "outputs": [
    {
     "name": "stdout",
     "output_type": "stream",
     "text": [
      "Current mouse position: 154 413\n"
     ]
    }
   ],
   "source": [
    "import pyautogui\n",
    "import time\n",
    "# Wait for 5 seconds to give you time to move the mouse to the desired position\n",
    "time.sleep(5)\n",
    "\n",
    "# Get the current position of the mouse\n",
    "x, y = pyautogui.position()\n",
    "print(\"Current mouse position:\", x, y)"
   ]
  }
 ],
 "metadata": {
  "kernelspec": {
   "display_name": "ai_env",
   "language": "python",
   "name": "python3"
  },
  "language_info": {
   "codemirror_mode": {
    "name": "ipython",
    "version": 3
   },
   "file_extension": ".py",
   "mimetype": "text/x-python",
   "name": "python",
   "nbconvert_exporter": "python",
   "pygments_lexer": "ipython3",
   "version": "3.11.2"
  },
  "orig_nbformat": 4
 },
 "nbformat": 4,
 "nbformat_minor": 2
}
